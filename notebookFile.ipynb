{
  "cells": [
    {
      "cell_type": "markdown",
      "metadata": {
        "id": "view-in-github",
        "colab_type": "text"
      },
      "source": [
        "<a href=\"https://colab.research.google.com/github/jasonli35/transformer/blob/main/notebookFile.ipynb\" target=\"_parent\"><img src=\"https://colab.research.google.com/assets/colab-badge.svg\" alt=\"Open In Colab\"/></a>"
      ]
    },
    {
      "cell_type": "code",
      "execution_count": null,
      "metadata": {
        "id": "zwFnJsE6vjf8",
        "outputId": "5680b54f-597f-4d40-d00a-d37b121451f1",
        "colab": {
          "base_uri": "https://localhost:8080/"
        }
      },
      "outputs": [
        {
          "output_type": "stream",
          "name": "stdout",
          "text": [
            "Mounted at /content/drive\n"
          ]
        }
      ],
      "source": [
        "from google.colab import drive\n",
        "drive.mount('/content/drive')\n"
      ]
    },
    {
      "cell_type": "code",
      "source": [
        "FOLDERNAME = 'cse156_nlp/CSE156_PA2_SP24'\n",
        "assert FOLDERNAME is not None, \"[!] Enter the foldername.\"\n",
        "\n",
        "# Now that we've mounted your Drive, this ensures that\n",
        "# the Python interpreter of the Colab VM can load\n",
        "# python files from within it.\n",
        "import sys\n",
        "sys.path.append('/content/drive/My Drive/{}'.format(FOLDERNAME))\n",
        "%cd /content/drive/My\\ Drive/$FOLDERNAME/\n"
      ],
      "metadata": {
        "id": "EscMPJWpAmT2",
        "outputId": "55eafc11-e5bd-4562-aacf-13654dfc9469",
        "colab": {
          "base_uri": "https://localhost:8080/"
        }
      },
      "execution_count": null,
      "outputs": [
        {
          "output_type": "stream",
          "name": "stdout",
          "text": [
            "/content/drive/My Drive/cse156_nlp/CSE156_PA2_SP24\n"
          ]
        }
      ]
    },
    {
      "cell_type": "code",
      "source": [
        "import nltk\n",
        "\n",
        "nltk.download(\"punkt\")"
      ],
      "metadata": {
        "id": "wHftaqnlSkyu",
        "outputId": "7bb7bc2f-f38a-4397-d754-abbc556f3c7a",
        "colab": {
          "base_uri": "https://localhost:8080/"
        }
      },
      "execution_count": null,
      "outputs": [
        {
          "output_type": "stream",
          "name": "stderr",
          "text": [
            "[nltk_data] Downloading package punkt to /root/nltk_data...\n",
            "[nltk_data]   Unzipping tokenizers/punkt.zip.\n"
          ]
        },
        {
          "output_type": "execute_result",
          "data": {
            "text/plain": [
              "True"
            ]
          },
          "metadata": {},
          "execution_count": 3
        }
      ]
    },
    {
      "cell_type": "code",
      "source": [
        "#main file\n",
        "import torch\n",
        "from torch.utils.data import DataLoader\n",
        "from torch.nn.utils.rnn import pad_sequence\n",
        "import os\n",
        "\n",
        "from tokenizer import SimpleTokenizer\n",
        "from dataset import SpeechesClassificationDataset, LanguageModelingDataset\n",
        "\n",
        "\n",
        "seed = 42\n",
        "\n",
        "device = torch.device(\"cuda\" if torch.cuda.is_available() else \"cpu\")\n",
        "\n",
        "\"\"\" Hyperparameters to use for training to roughly match\n",
        "the numbers mentioned in the assignment description \"\"\"\n",
        "batch_size = 16  # Number of independent sequences  we will process in parallel\n",
        "block_size = 32  # Maximum context length for predictions\n",
        "learning_rate = 1e-3  # Learning rate for the optimizer\n",
        "n_embd = 64  # Embedding dimension\n",
        "n_head = 2  # Number of attention heads\n",
        "n_layer = 4  # Number of transformer layers\n",
        "\n",
        "\n",
        "eval_interval = 100  # How often to evaluate train and test perplexity during training\n",
        "max_iters = 500 # For language modeling, we can process all the batches for the entire dataset, but that takes a while, so we'll limit it to 500 iterations. For batch size of 16 and block size of  32, this is roughly, this is  500 * 16 * 32 = 256000 tokens, SOTA LMs are trained on trillions of tokens, so this is a very small dataset.\n",
        "eval_iters = 200  # Number of iterations to evaluate perplexity on the test set\n",
        "\n",
        "\n",
        "## classifier training hyperparameters. It is a simple 1 hidden layer feedforward network, with input\n",
        "## size of 64, hidden size of 50 and output size of 3.\n",
        "\n",
        "n_input = 64  # Input size for the classifier, should match the embedding size of the transformer\n",
        "n_hidden = 100  # Hidden size for the classifier\n",
        "n_output = 3  # Output size for the classifier, we have 3 classes\n",
        "epochs_CLS = 15 # epochs for classifier training\n",
        "\n",
        "def load_texts(directory):\n",
        "    \"\"\"\n",
        "    This function loads all texts from the specified directory, ignoring any files with \"test\" in their name. The text is used for \"training\" the tokenizer. Since our tokenizer is simple, we don't need to do any training, but we still need to ignore the test data.\n",
        "    \"\"\"\n",
        "\n",
        "    texts = []\n",
        "    files = os.listdir(directory)\n",
        "    for filename in files:\n",
        "        if \"test\" in filename:  ## don't \"read test files\"\n",
        "            continue\n",
        "        with open(os.path.join(directory, filename), 'r', encoding='utf-8') as file:\n",
        "            texts.append(file.read())\n",
        "    return texts\n",
        "\n",
        "\n",
        "\n",
        "def collate_batch(batch):\n",
        "    \"\"\" Collate a batch of data into a single tensor with padding.\"\"\"\n",
        "    data, labels = zip(*batch)  # Separate the data and labels\n",
        "    # Pad sequences to the fixed length\n",
        "    padded_sequences = pad_sequence(data, batch_first=True, padding_value=0)\n",
        "    padded_sequences = padded_sequences[:, :block_size]  # Truncate if longer\n",
        "    # Add padding if shorter\n",
        "    padded_sequences = torch.nn.functional.pad(padded_sequences, (0, max(0, block_size - padded_sequences.shape[1])), \"constant\", 0)\n",
        "    labels = torch.stack(labels)\n",
        "    return padded_sequences, labels\n",
        "\n",
        "def compute_classifier_accuracy(classifier, data_loader):\n",
        "    \"\"\" Compute the accuracy of the classifier on the data in data_loader.\"\"\"\n",
        "    classifier.eval()\n",
        "    total_correct = 0\n",
        "    total_samples = 0\n",
        "    with torch.no_grad():\n",
        "        for X, Y in data_loader:\n",
        "            X, Y = X.to(device), Y.to(device)\n",
        "            outputs = classifier(X)\n",
        "            _, predicted = torch.max(outputs.data, 1)\n",
        "            total_correct += (predicted == Y).sum().item()\n",
        "            total_samples += Y.size(0)\n",
        "        accuracy = (100 * total_correct / total_samples)\n",
        "        classifier.train()\n",
        "        return accuracy\n",
        "\n",
        "\n",
        "def compute_perplexity(decoderLMmodel, data_loader, eval_iters=100):\n",
        "    \"\"\" Compute the perplexity of the decoderLMmodel on the data in data_loader.\n",
        "    Make sure to use the cross entropy loss for the decoderLMmodel.\n",
        "    \"\"\"\n",
        "    decoderLMmodel.eval()\n",
        "    losses= []\n",
        "    for X, Y in data_loader:\n",
        "        X, Y = X.to(device), Y.to(device)\n",
        "        loss = decoderLMmodel(X, Y) # your model should be computing the cross entropy loss\n",
        "        losses.append(loss.item())\n",
        "        total_loss += loss.item()\n",
        "        if len(losses) >= eval_iters: break\n",
        "\n",
        "\n",
        "    losses = torch.tensor(losses)\n",
        "    mean_loss = losses.mean()\n",
        "    perplexity = torch.exp(mean_loss).item()  # Calculate perplexity as exp(mean loss)\n",
        "\n",
        "    decoderLMmodel.train()\n",
        "    return perplexity\n",
        "\n",
        "def main():\n",
        "\n",
        "    print(\"Loading data and creating tokenizer ...\")\n",
        "    texts = load_texts('speechesdataset')\n",
        "    tokenizer = SimpleTokenizer(' '.join(texts)) # create a tokenizer from the data\n",
        "    print(\"Vocabulary size is\", tokenizer.vocab_size)\n",
        "\n",
        "    train_CLS_dataset = SpeechesClassificationDataset(tokenizer, \"speechesdataset/train_CLS.tsv\")\n",
        "    train_CLS_loader = DataLoader(train_CLS_dataset, batch_size=batch_size,collate_fn=collate_batch,shuffle=True)\n",
        "\n",
        "\n",
        "    inputfile = \"speechesdataset/train_LM.txt\"\n",
        "    with open(inputfile, 'r', encoding='utf-8') as f:\n",
        "        lmtrainText = f.read()\n",
        "    train_LM_dataset = LanguageModelingDataset(tokenizer, lmtrainText,  block_size)\n",
        "    train_LM_loader = DataLoader(train_LM_dataset, batch_size=batch_size, shuffle=True)\n",
        "\n",
        "     # for the classification  task, you will train for a fixed number of epochs like this:\n",
        "    for epoch in range(epochs_CLS):\n",
        "        for xb, yb in train_CLS_loader:\n",
        "            xb, yb = xb.to(device), yb.to(device)\n",
        "            # CLS training code here\n",
        "\n",
        "\n",
        "    # for the language modeling task, you will iterate over the training data for a fixed number of iterations like this:\n",
        "    for i, (xb, yb) in enumerate(train_LM_loader):\n",
        "        if i >= max_iters:\n",
        "            break\n",
        "        xb, yb = xb.to(device), yb.to(device)\n",
        "        # LM training code here\n",
        "\n",
        "\n",
        "\n",
        "\n",
        "\n",
        "if __name__ == \"__main__\":\n",
        "    main()\n"
      ],
      "metadata": {
        "id": "fp_HV0pEU_C6",
        "outputId": "b44923db-060d-4e23-a699-8b4d8eca9517",
        "colab": {
          "base_uri": "https://localhost:8080/",
          "height": 393
        }
      },
      "execution_count": 10,
      "outputs": [
        {
          "output_type": "error",
          "ename": "ModuleNotFoundError",
          "evalue": "No module named 'tokenizer'",
          "traceback": [
            "\u001b[0;31m---------------------------------------------------------------------------\u001b[0m",
            "\u001b[0;31mModuleNotFoundError\u001b[0m                       Traceback (most recent call last)",
            "\u001b[0;32m<ipython-input-10-cce4d2766bfc>\u001b[0m in \u001b[0;36m<cell line: 7>\u001b[0;34m()\u001b[0m\n\u001b[1;32m      5\u001b[0m \u001b[0;32mimport\u001b[0m \u001b[0mos\u001b[0m\u001b[0;34m\u001b[0m\u001b[0;34m\u001b[0m\u001b[0m\n\u001b[1;32m      6\u001b[0m \u001b[0;34m\u001b[0m\u001b[0m\n\u001b[0;32m----> 7\u001b[0;31m \u001b[0;32mfrom\u001b[0m \u001b[0mtokenizer\u001b[0m \u001b[0;32mimport\u001b[0m \u001b[0mSimpleTokenizer\u001b[0m\u001b[0;34m\u001b[0m\u001b[0;34m\u001b[0m\u001b[0m\n\u001b[0m\u001b[1;32m      8\u001b[0m \u001b[0;32mfrom\u001b[0m \u001b[0mdataset\u001b[0m \u001b[0;32mimport\u001b[0m \u001b[0mSpeechesClassificationDataset\u001b[0m\u001b[0;34m,\u001b[0m \u001b[0mLanguageModelingDataset\u001b[0m\u001b[0;34m\u001b[0m\u001b[0;34m\u001b[0m\u001b[0m\n\u001b[1;32m      9\u001b[0m \u001b[0;34m\u001b[0m\u001b[0m\n",
            "\u001b[0;31mModuleNotFoundError\u001b[0m: No module named 'tokenizer'",
            "",
            "\u001b[0;31m---------------------------------------------------------------------------\u001b[0;32m\nNOTE: If your import is failing due to a missing package, you can\nmanually install dependencies using either !pip or !apt.\n\nTo view examples of installing some common dependencies, click the\n\"Open Examples\" button below.\n\u001b[0;31m---------------------------------------------------------------------------\u001b[0m\n"
          ],
          "errorDetails": {
            "actions": [
              {
                "action": "open_url",
                "actionText": "Open Examples",
                "url": "/notebooks/snippets/importing_libraries.ipynb"
              }
            ]
          }
        }
      ]
    }
  ],
  "metadata": {
    "colab": {
      "provenance": [],
      "include_colab_link": true
    },
    "kernelspec": {
      "display_name": "Python 3",
      "name": "python3"
    }
  },
  "nbformat": 4,
  "nbformat_minor": 0
}